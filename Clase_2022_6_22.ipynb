{
 "cells": [
  {
   "cell_type": "code",
   "execution_count": 5,
   "id": "d56a2d28",
   "metadata": {},
   "outputs": [],
   "source": [
    "agenda = {\"Dimas\":[\"Dimas Bensulin\", 3516330044, \"dimasbenasulin@gmail.com\"]}"
   ]
  },
  {
   "cell_type": "code",
   "execution_count": 6,
   "id": "5703a222",
   "metadata": {},
   "outputs": [
    {
     "name": "stdout",
     "output_type": "stream",
     "text": [
      "{'Dimas': ['Dimas Bensulin', 3516330044, 'dimasbenasulin@gmail.com']}\n"
     ]
    }
   ],
   "source": [
    "print(agenda)"
   ]
  },
  {
   "cell_type": "code",
   "execution_count": 7,
   "id": "b5264b8e",
   "metadata": {},
   "outputs": [],
   "source": [
    "agenda[\"Pedro\"]  = ['Pedro Blanco', 37245354322, 'pedroblanco@gmail.com']"
   ]
  },
  {
   "cell_type": "code",
   "execution_count": 8,
   "id": "b59ec352",
   "metadata": {},
   "outputs": [
    {
     "name": "stdout",
     "output_type": "stream",
     "text": [
      "{'Dimas': ['Dimas Bensulin', 3516330044, 'dimasbenasulin@gmail.com'], 'Pedro': ['Pedro Blanco', 37245354322, 'pedroblanco@gmail.com']}\n"
     ]
    }
   ],
   "source": [
    "print(agenda     )"
   ]
  },
  {
   "cell_type": "code",
   "execution_count": 9,
   "id": "c0cccca1",
   "metadata": {},
   "outputs": [],
   "source": [
    "miarchivo = open(\"agendacba.txt\", \"at\", encoding=\"utf-8\")"
   ]
  },
  {
   "cell_type": "code",
   "execution_count": 13,
   "id": "f60a059f",
   "metadata": {},
   "outputs": [
    {
     "name": "stdout",
     "output_type": "stream",
     "text": [
      "['Dimas Bensulin', 3516330044, 'dimasbenasulin@gmail.com']\n"
     ]
    }
   ],
   "source": [
    "print(agenda.get('Dimas'))"
   ]
  },
  {
   "cell_type": "code",
   "execution_count": 14,
   "id": "d0761ac1",
   "metadata": {},
   "outputs": [
    {
     "name": "stdout",
     "output_type": "stream",
     "text": [
      "['Pedro Blanco', 37245354322, 'pedroblanco@gmail.com']\n"
     ]
    }
   ],
   "source": [
    "print(agenda.get('Pedro'))"
   ]
  },
  {
   "cell_type": "code",
   "execution_count": 15,
   "id": "6468bd70",
   "metadata": {},
   "outputs": [
    {
     "name": "stdout",
     "output_type": "stream",
     "text": [
      "dict_keys(['Dimas', 'Pedro'])\n"
     ]
    }
   ],
   "source": [
    "print(agenda.keys())"
   ]
  },
  {
   "cell_type": "code",
   "execution_count": 16,
   "id": "feb6ef6d",
   "metadata": {},
   "outputs": [],
   "source": [
    "aux1 = agenda.keys()"
   ]
  },
  {
   "cell_type": "code",
   "execution_count": 18,
   "id": "26e4f01b",
   "metadata": {},
   "outputs": [
    {
     "name": "stdout",
     "output_type": "stream",
     "text": [
      "dict_keys(['Dimas', 'Pedro'])\n"
     ]
    }
   ],
   "source": [
    "print(aux1)"
   ]
  },
  {
   "cell_type": "code",
   "execution_count": 19,
   "id": "7f357186",
   "metadata": {},
   "outputs": [],
   "source": [
    "var1 = list(agenda.keys())"
   ]
  },
  {
   "cell_type": "code",
   "execution_count": 22,
   "id": "d09240f7",
   "metadata": {},
   "outputs": [
    {
     "name": "stdout",
     "output_type": "stream",
     "text": [
      "Pedro\n"
     ]
    }
   ],
   "source": [
    "print(var1[1])"
   ]
  },
  {
   "cell_type": "code",
   "execution_count": 23,
   "id": "3a2b7512",
   "metadata": {},
   "outputs": [],
   "source": [
    "var2 = list(agenda.values())"
   ]
  },
  {
   "cell_type": "code",
   "execution_count": 24,
   "id": "3b64f8ed",
   "metadata": {},
   "outputs": [
    {
     "name": "stdout",
     "output_type": "stream",
     "text": [
      "[['Dimas Bensulin', 3516330044, 'dimasbenasulin@gmail.com'], ['Pedro Blanco', 37245354322, 'pedroblanco@gmail.com']]\n"
     ]
    }
   ],
   "source": [
    "print(var2)"
   ]
  },
  {
   "cell_type": "code",
   "execution_count": 27,
   "id": "17e843b2",
   "metadata": {},
   "outputs": [
    {
     "name": "stdout",
     "output_type": "stream",
     "text": [
      "dimasbenasulin@gmail.com\n"
     ]
    }
   ],
   "source": [
    "print(var2[0][2])"
   ]
  },
  {
   "cell_type": "code",
   "execution_count": 29,
   "id": "4370d18b",
   "metadata": {},
   "outputs": [],
   "source": [
    "linea1 = var1[0] + \" \" + var2[0][0] + \" \" + str(var2[0][1]) + \" \" + var2[0][2]"
   ]
  },
  {
   "cell_type": "code",
   "execution_count": 30,
   "id": "37d2c842",
   "metadata": {},
   "outputs": [
    {
     "name": "stdout",
     "output_type": "stream",
     "text": [
      "Dimas Dimas Bensulin 3516330044 dimasbenasulin@gmail.com\n"
     ]
    }
   ],
   "source": [
    "print(linea1)"
   ]
  },
  {
   "cell_type": "code",
   "execution_count": 31,
   "id": "74ba17b4",
   "metadata": {},
   "outputs": [
    {
     "data": {
      "text/plain": [
       "56"
      ]
     },
     "execution_count": 31,
     "metadata": {},
     "output_type": "execute_result"
    }
   ],
   "source": [
    "miarchivo.write(linea1)"
   ]
  },
  {
   "cell_type": "code",
   "execution_count": 32,
   "id": "31010290",
   "metadata": {},
   "outputs": [],
   "source": [
    "miarchivo.close()\n"
   ]
  },
  {
   "cell_type": "code",
   "execution_count": 34,
   "id": "157ddfa8",
   "metadata": {},
   "outputs": [],
   "source": [
    "miarchivo = open(\"agendacba.txt\", \"rt\", encoding = \"utf-8\")"
   ]
  },
  {
   "cell_type": "code",
   "execution_count": 35,
   "id": "18b67d69",
   "metadata": {},
   "outputs": [
    {
     "name": "stdout",
     "output_type": "stream",
     "text": [
      "Dimas Dimas Bensulin 3516330044 dimasbenasulin@gmail.com\n"
     ]
    }
   ],
   "source": [
    "print(miarchivo.read())"
   ]
  },
  {
   "cell_type": "code",
   "execution_count": 36,
   "id": "68a3cdde",
   "metadata": {},
   "outputs": [],
   "source": [
    "miarchivo.close()\n"
   ]
  },
  {
   "cell_type": "code",
   "execution_count": 37,
   "id": "f7b6acde",
   "metadata": {},
   "outputs": [],
   "source": [
    "miarchivo = open(\"agendacba.txt\", \"at\", encoding=\"utf-8\")"
   ]
  },
  {
   "cell_type": "code",
   "execution_count": 38,
   "id": "73a55c39",
   "metadata": {},
   "outputs": [],
   "source": [
    "linea2 = var1[1] + \" \" + var2[1][0] + \" \" + str(var2[1][1]) + \" \" + var2[1][2]"
   ]
  },
  {
   "cell_type": "code",
   "execution_count": 39,
   "id": "3e610aee",
   "metadata": {},
   "outputs": [
    {
     "name": "stdout",
     "output_type": "stream",
     "text": [
      "Pedro Pedro Blanco 37245354322 pedroblanco@gmail.com\n"
     ]
    }
   ],
   "source": [
    "print(linea2)"
   ]
  },
  {
   "cell_type": "code",
   "execution_count": 40,
   "id": "f00411b3",
   "metadata": {},
   "outputs": [
    {
     "data": {
      "text/plain": [
       "52"
      ]
     },
     "execution_count": 40,
     "metadata": {},
     "output_type": "execute_result"
    }
   ],
   "source": [
    "miarchivo.write(\"\\n\" + linea2 + \"\\n\")"
   ]
  },
  {
   "cell_type": "code",
   "execution_count": 41,
   "id": "721ff27d",
   "metadata": {},
   "outputs": [],
   "source": [
    "miarchivo.close()"
   ]
  },
  {
   "cell_type": "code",
   "execution_count": 42,
   "id": "f86867b9",
   "metadata": {},
   "outputs": [],
   "source": [
    "miarchivo = open(\"agendacba.txt\", \"rt\", encoding=\"utf-8\")"
   ]
  },
  {
   "cell_type": "code",
   "execution_count": 43,
   "id": "00300661",
   "metadata": {},
   "outputs": [
    {
     "name": "stdout",
     "output_type": "stream",
     "text": [
      "Dimas Dimas Bensulin 3516330044 dimasbenasulin@gmail.comPedro Pedro Blanco 37245354322 pedroblanco@gmail.com\n"
     ]
    }
   ],
   "source": [
    "print(miarchivo.read())"
   ]
  },
  {
   "cell_type": "code",
   "execution_count": 44,
   "id": "efaabbf8",
   "metadata": {},
   "outputs": [],
   "source": [
    "miarchivo.close()"
   ]
  },
  {
   "cell_type": "code",
   "execution_count": 63,
   "id": "ff475533",
   "metadata": {},
   "outputs": [],
   "source": [
    "miarchivo = open(\"agendacba.txt\", \"rt\", encoding=\"utf-8\")"
   ]
  },
  {
   "cell_type": "code",
   "execution_count": 64,
   "id": "509eee88",
   "metadata": {},
   "outputs": [],
   "source": [
    "auxs = miarchivo.readline()"
   ]
  },
  {
   "cell_type": "code",
   "execution_count": 65,
   "id": "d892ff0a",
   "metadata": {},
   "outputs": [
    {
     "name": "stdout",
     "output_type": "stream",
     "text": [
      "Dimas Dimas Bensulin 3516330044 dimasbenasulin@gmail.com\n",
      "\n"
     ]
    }
   ],
   "source": [
    "print(auxs)"
   ]
  },
  {
   "cell_type": "code",
   "execution_count": 66,
   "id": "d7e9c20d",
   "metadata": {},
   "outputs": [],
   "source": [
    "auxs = miarchivo.readline()"
   ]
  },
  {
   "cell_type": "code",
   "execution_count": 67,
   "id": "0f879709",
   "metadata": {},
   "outputs": [
    {
     "name": "stdout",
     "output_type": "stream",
     "text": [
      "Pedro Pedro Blanco 37245354322 pedroblanco@gmail.com\n"
     ]
    }
   ],
   "source": [
    "print(auxs)"
   ]
  },
  {
   "cell_type": "code",
   "execution_count": 68,
   "id": "aaef7d24",
   "metadata": {},
   "outputs": [
    {
     "name": "stdout",
     "output_type": "stream",
     "text": [
      "<class 'str'>\n"
     ]
    }
   ],
   "source": [
    "print(type(auxs))"
   ]
  },
  {
   "cell_type": "code",
   "execution_count": 69,
   "id": "19b25bac",
   "metadata": {},
   "outputs": [],
   "source": [
    "proceso = auxs.split()"
   ]
  },
  {
   "cell_type": "code",
   "execution_count": 70,
   "id": "1646d605",
   "metadata": {},
   "outputs": [
    {
     "name": "stdout",
     "output_type": "stream",
     "text": [
      "['Pedro', 'Pedro', 'Blanco', '37245354322', 'pedroblanco@gmail.com']\n"
     ]
    }
   ],
   "source": [
    "print(proceso)"
   ]
  },
  {
   "cell_type": "code",
   "execution_count": 71,
   "id": "2bec8002",
   "metadata": {},
   "outputs": [],
   "source": [
    "del agenda['Pedro']"
   ]
  },
  {
   "cell_type": "code",
   "execution_count": 72,
   "id": "96711f1f",
   "metadata": {},
   "outputs": [
    {
     "name": "stdout",
     "output_type": "stream",
     "text": [
      "{'Dimas': ['Dimas Bensulin', 3516330044, 'dimasbenasulin@gmail.com']}\n"
     ]
    }
   ],
   "source": [
    "print(agenda)"
   ]
  },
  {
   "cell_type": "code",
   "execution_count": 75,
   "id": "08f82973",
   "metadata": {},
   "outputs": [],
   "source": [
    "agenda[proceso[0]] = [proceso[1] + \" \" + proceso[2], proceso[3], proceso[4]]"
   ]
  },
  {
   "cell_type": "code",
   "execution_count": 76,
   "id": "e891a66c",
   "metadata": {},
   "outputs": [
    {
     "name": "stdout",
     "output_type": "stream",
     "text": [
      "{'Dimas': ['Dimas Bensulin', 3516330044, 'dimasbenasulin@gmail.com'], 'Pedro': ['Pedro Blanco', '37245354322', 'pedroblanco@gmail.com']}\n"
     ]
    }
   ],
   "source": [
    "print(agenda)"
   ]
  },
  {
   "cell_type": "code",
   "execution_count": 77,
   "id": "f0348de9",
   "metadata": {},
   "outputs": [],
   "source": [
    "linea3 = \"Hola Mundo 1 \""
   ]
  },
  {
   "cell_type": "code",
   "execution_count": 78,
   "id": "fbbde36e",
   "metadata": {},
   "outputs": [],
   "source": [
    "linea4 = \"Hola Mundo 2 \""
   ]
  },
  {
   "cell_type": "code",
   "execution_count": 79,
   "id": "06023202",
   "metadata": {},
   "outputs": [],
   "source": [
    "miarchivo2 = open (\"test.txt\", \"at\", encoding = \"utf-8\")"
   ]
  },
  {
   "cell_type": "code",
   "execution_count": 80,
   "id": "785a5b58",
   "metadata": {},
   "outputs": [
    {
     "data": {
      "text/plain": [
       "13"
      ]
     },
     "execution_count": 80,
     "metadata": {},
     "output_type": "execute_result"
    }
   ],
   "source": [
    "miarchivo2.write(linea3)"
   ]
  },
  {
   "cell_type": "code",
   "execution_count": 81,
   "id": "9c9f663c",
   "metadata": {},
   "outputs": [
    {
     "data": {
      "text/plain": [
       "14"
      ]
     },
     "execution_count": 81,
     "metadata": {},
     "output_type": "execute_result"
    }
   ],
   "source": [
    "miarchivo2.write(\"\\n\" + linea4)"
   ]
  },
  {
   "cell_type": "code",
   "execution_count": 82,
   "id": "6221eef2",
   "metadata": {},
   "outputs": [],
   "source": [
    "miarchivo2.close()"
   ]
  },
  {
   "cell_type": "code",
   "execution_count": 83,
   "id": "683d78af",
   "metadata": {},
   "outputs": [],
   "source": [
    "miarchivo2 = open(\"test.txt\", \"rt\", encoding = \"utf-8\")"
   ]
  },
  {
   "cell_type": "code",
   "execution_count": 84,
   "id": "5c9b59eb",
   "metadata": {},
   "outputs": [
    {
     "name": "stdout",
     "output_type": "stream",
     "text": [
      "Hola Mundo 1 \n",
      "Hola Mundo 2 \n"
     ]
    }
   ],
   "source": [
    "print(miarchivo2.read())"
   ]
  },
  {
   "cell_type": "code",
   "execution_count": null,
   "id": "63a54186",
   "metadata": {},
   "outputs": [],
   "source": []
  }
 ],
 "metadata": {
  "kernelspec": {
   "display_name": "Python 3 (ipykernel)",
   "language": "python",
   "name": "python3"
  },
  "language_info": {
   "codemirror_mode": {
    "name": "ipython",
    "version": 3
   },
   "file_extension": ".py",
   "mimetype": "text/x-python",
   "name": "python",
   "nbconvert_exporter": "python",
   "pygments_lexer": "ipython3",
   "version": "3.9.12"
  }
 },
 "nbformat": 4,
 "nbformat_minor": 5
}
