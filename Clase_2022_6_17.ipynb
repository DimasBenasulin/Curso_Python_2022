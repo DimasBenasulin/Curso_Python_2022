{
 "cells": [
  {
   "cell_type": "code",
   "execution_count": 2,
   "id": "8b94f266",
   "metadata": {},
   "outputs": [],
   "source": [
    "d = {1: 'Gato', 2: 'Perro', 3:'Mono'}"
   ]
  },
  {
   "cell_type": "code",
   "execution_count": 3,
   "id": "eacaf3f2",
   "metadata": {},
   "outputs": [
    {
     "data": {
      "text/plain": [
       "dict_keys([1, 2, 3])"
      ]
     },
     "execution_count": 3,
     "metadata": {},
     "output_type": "execute_result"
    }
   ],
   "source": [
    "d.keys()"
   ]
  },
  {
   "cell_type": "code",
   "execution_count": 4,
   "id": "1c9c5cc9",
   "metadata": {},
   "outputs": [
    {
     "data": {
      "text/plain": [
       "dict_values(['Gato', 'Perro', 'Mono'])"
      ]
     },
     "execution_count": 4,
     "metadata": {},
     "output_type": "execute_result"
    }
   ],
   "source": [
    "d.values()"
   ]
  },
  {
   "cell_type": "code",
   "execution_count": 5,
   "id": "55158569",
   "metadata": {},
   "outputs": [
    {
     "name": "stdout",
     "output_type": "stream",
     "text": [
      "True\n"
     ]
    }
   ],
   "source": [
    "print('Perro' in d.values())"
   ]
  },
  {
   "cell_type": "code",
   "execution_count": 6,
   "id": "e885247d",
   "metadata": {},
   "outputs": [
    {
     "name": "stdout",
     "output_type": "stream",
     "text": [
      "False\n"
     ]
    }
   ],
   "source": [
    "print('Jirafa' in d.values())"
   ]
  },
  {
   "cell_type": "code",
   "execution_count": 7,
   "id": "83373a41",
   "metadata": {},
   "outputs": [
    {
     "data": {
      "text/plain": [
       "dict_items([(1, 'Gato'), (2, 'Perro'), (3, 'Mono')])"
      ]
     },
     "execution_count": 7,
     "metadata": {},
     "output_type": "execute_result"
    }
   ],
   "source": [
    "d.items()"
   ]
  },
  {
   "cell_type": "code",
   "execution_count": 8,
   "id": "f22aa3b8",
   "metadata": {},
   "outputs": [
    {
     "name": "stdout",
     "output_type": "stream",
     "text": [
      "True\n"
     ]
    }
   ],
   "source": [
    "print('Jirafa' not in d.values())"
   ]
  },
  {
   "cell_type": "code",
   "execution_count": 9,
   "id": "72cf9a23",
   "metadata": {},
   "outputs": [
    {
     "data": {
      "text/plain": [
       "'Perro'"
      ]
     },
     "execution_count": 9,
     "metadata": {},
     "output_type": "execute_result"
    }
   ],
   "source": [
    "d.get(2)"
   ]
  },
  {
   "cell_type": "code",
   "execution_count": 11,
   "id": "98b3fea2",
   "metadata": {},
   "outputs": [
    {
     "name": "stdout",
     "output_type": "stream",
     "text": [
      "Gato\n",
      "Perro\n",
      "Mono\n",
      "None\n"
     ]
    }
   ],
   "source": [
    "for i in range(1,5):\n",
    "    print(d.get(i))"
   ]
  },
  {
   "cell_type": "code",
   "execution_count": 13,
   "id": "3c52d950",
   "metadata": {},
   "outputs": [
    {
     "name": "stdout",
     "output_type": "stream",
     "text": [
      "L\n",
      "a\n",
      " \n",
      "B\n",
      "e\n",
      "l\n",
      "l\n",
      "a\n",
      " \n",
      "C\n",
      "o\n",
      "r\n",
      "d\n",
      "o\n",
      "b\n",
      "a\n"
     ]
    }
   ],
   "source": [
    "mensaje = \"La Bella Cordoba\"\n",
    "for i in range(0, len(mensaje)):\n",
    "    print(mensaje[i])"
   ]
  },
  {
   "cell_type": "code",
   "execution_count": 16,
   "id": "eb40528b",
   "metadata": {},
   "outputs": [],
   "source": [
    "separados = mensaje.split()"
   ]
  },
  {
   "cell_type": "code",
   "execution_count": 17,
   "id": "71548a4c",
   "metadata": {},
   "outputs": [
    {
     "name": "stdout",
     "output_type": "stream",
     "text": [
      "['La', 'Bella', 'Cordoba']\n"
     ]
    }
   ],
   "source": [
    "print(separados)"
   ]
  },
  {
   "cell_type": "code",
   "execution_count": 18,
   "id": "1d47daa4",
   "metadata": {},
   "outputs": [],
   "source": [
    "midiccio = dict(nombre='bicicleta', ruedas=2)"
   ]
  },
  {
   "cell_type": "code",
   "execution_count": 19,
   "id": "4ab2cc71",
   "metadata": {},
   "outputs": [
    {
     "name": "stdout",
     "output_type": "stream",
     "text": [
      "{'nombre': 'bicicleta', 'ruedas': 2}\n"
     ]
    }
   ],
   "source": [
    "print(midiccio)"
   ]
  },
  {
   "cell_type": "markdown",
   "id": "3ab64cb6",
   "metadata": {},
   "source": [
    "# Actualizar Valores en Diccionarios"
   ]
  },
  {
   "cell_type": "code",
   "execution_count": 21,
   "id": "b667183e",
   "metadata": {},
   "outputs": [],
   "source": [
    "midiccio['ruedas'] = 4"
   ]
  },
  {
   "cell_type": "code",
   "execution_count": 22,
   "id": "27430136",
   "metadata": {},
   "outputs": [
    {
     "name": "stdout",
     "output_type": "stream",
     "text": [
      "{'nombre': 'bicicleta', 'ruedas': 4}\n"
     ]
    }
   ],
   "source": [
    "print(midiccio)"
   ]
  },
  {
   "cell_type": "code",
   "execution_count": 23,
   "id": "e4e906e4",
   "metadata": {},
   "outputs": [],
   "source": [
    "midiccio.update(d)"
   ]
  },
  {
   "cell_type": "code",
   "execution_count": 24,
   "id": "4a42b509",
   "metadata": {},
   "outputs": [
    {
     "name": "stdout",
     "output_type": "stream",
     "text": [
      "{'nombre': 'bicicleta', 'ruedas': 4, 1: 'Gato', 2: 'Perro', 3: 'Mono'}\n"
     ]
    }
   ],
   "source": [
    "print(midiccio)"
   ]
  },
  {
   "cell_type": "code",
   "execution_count": 27,
   "id": "5257fc75",
   "metadata": {},
   "outputs": [
    {
     "name": "stdout",
     "output_type": "stream",
     "text": [
      "bicicleta\n"
     ]
    }
   ],
   "source": [
    "print(midiccio.get('nombre'))"
   ]
  },
  {
   "cell_type": "code",
   "execution_count": 29,
   "id": "2fb1bce3",
   "metadata": {},
   "outputs": [],
   "source": [
    "del midiccio['ruedas']"
   ]
  },
  {
   "cell_type": "code",
   "execution_count": 30,
   "id": "5c4b71bd",
   "metadata": {},
   "outputs": [
    {
     "name": "stdout",
     "output_type": "stream",
     "text": [
      "{'nombre': 'bicicleta', 1: 'Gato', 2: 'Perro', 3: 'Mono'}\n"
     ]
    }
   ],
   "source": [
    "print(midiccio)"
   ]
  },
  {
   "cell_type": "code",
   "execution_count": 31,
   "id": "abdbfa24",
   "metadata": {},
   "outputs": [],
   "source": [
    "midiccio.clear()"
   ]
  },
  {
   "cell_type": "code",
   "execution_count": 32,
   "id": "51c70ed1",
   "metadata": {},
   "outputs": [
    {
     "name": "stdout",
     "output_type": "stream",
     "text": [
      "{}\n"
     ]
    }
   ],
   "source": [
    "print(midiccio)"
   ]
  },
  {
   "cell_type": "code",
   "execution_count": 33,
   "id": "0e08b01b",
   "metadata": {},
   "outputs": [],
   "source": [
    "pol_esp_dictionary = {\n",
    "    \"zamek\" : \"castillo\",\n",
    "    \"woda\"  : \"agua\",\n",
    "    \"gleba\" : \"tierra\"\n",
    "    }\n",
    "\n",
    "copy_dictionary = pol_esp_dictionary.copy()\n",
    "\n"
   ]
  },
  {
   "cell_type": "code",
   "execution_count": 34,
   "id": "1e2e18dd",
   "metadata": {},
   "outputs": [
    {
     "name": "stdout",
     "output_type": "stream",
     "text": [
      "{'zamek': 'castillo', 'woda': 'agua', 'gleba': 'tierra'}\n"
     ]
    }
   ],
   "source": [
    "print(copy_dictionary)"
   ]
  },
  {
   "cell_type": "code",
   "execution_count": 69,
   "id": "cac9ad27",
   "metadata": {},
   "outputs": [
    {
     "data": {
      "text/plain": [
       "53"
      ]
     },
     "execution_count": 69,
     "metadata": {},
     "output_type": "execute_result"
    }
   ],
   "source": [
    "# Se abre el archivo tzop.txt en modo lectura, devolviéndolo como un objeto del tipo archivo:\n",
    "stream = open(\"mitextolorem.txt\", \"at\", encoding = \"utf-8\")\n",
    "\n",
    "stream.write(\"Los chicos del curso 2022 de Python son unos genios \\n\")\n",
    "\n",
    "# Se imprime el contenido del archivo:\n",
    "#milista = stream.readlines()"
   ]
  },
  {
   "cell_type": "code",
   "execution_count": 70,
   "id": "c4f4d19e",
   "metadata": {},
   "outputs": [
    {
     "name": "stdout",
     "output_type": "stream",
     "text": [
      "Los chicos del curso 2022 de Python son unos genios \n",
      "Los chicos del curso 2022 de Python son unos genios \n",
      "Los chicos del curso 2022 de Python son unos genios \n",
      "Los chicos del curso 2022 de Python son unos genios \n",
      "Los chicos del curso 2022 de Python son unos genios \n",
      "Los chicos del curso 2022 de Python son unos genios \n",
      "\n"
     ]
    }
   ],
   "source": [
    "stream = open(\"mitextolorem.txt\", \"rt\", encoding = \"utf-8\")\n",
    "print(stream.read())\n"
   ]
  },
  {
   "cell_type": "code",
   "execution_count": null,
   "id": "51a34d94",
   "metadata": {},
   "outputs": [],
   "source": []
  }
 ],
 "metadata": {
  "kernelspec": {
   "display_name": "Python 3",
   "language": "python",
   "name": "python3"
  },
  "language_info": {
   "codemirror_mode": {
    "name": "ipython",
    "version": 3
   },
   "file_extension": ".py",
   "mimetype": "text/x-python",
   "name": "python",
   "nbconvert_exporter": "python",
   "pygments_lexer": "ipython3",
   "version": "3.8.8"
  }
 },
 "nbformat": 4,
 "nbformat_minor": 5
}
